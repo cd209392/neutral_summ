{
 "cells": [
  {
   "cell_type": "markdown",
   "id": "2e897862-ee66-444d-ba12-1a2574cf9d26",
   "metadata": {},
   "source": [
    "The purpose of this Notebook is to compute the ROUGE scores using the reference summaries"
   ]
  },
  {
   "cell_type": "code",
   "execution_count": 23,
   "id": "7ba32af2-26cc-4b22-8595-8ef499c0ce6a",
   "metadata": {},
   "outputs": [],
   "source": [
    "import pandas as pd\n",
    "import numpy as np\n",
    "from rouge_score import rouge_scorer\n",
    "import re"
   ]
  },
  {
   "cell_type": "code",
   "execution_count": 27,
   "id": "0178eef0-f0b1-4487-8d4a-3d08bb052096",
   "metadata": {},
   "outputs": [],
   "source": [
    "import string"
   ]
  },
  {
   "cell_type": "code",
   "execution_count": 14,
   "id": "cd8ca912-c8af-4038-ad2d-2e9e8c929d02",
   "metadata": {},
   "outputs": [],
   "source": [
    "import nltk\n",
    "from nltk.corpus import stopwords\n",
    "\n",
    "stop_words = set(stopwords.words('english'))"
   ]
  },
  {
   "cell_type": "code",
   "execution_count": 2,
   "id": "332f2226-5e3b-4c5a-b690-1ab366daa425",
   "metadata": {},
   "outputs": [],
   "source": [
    "import json"
   ]
  },
  {
   "cell_type": "code",
   "execution_count": 24,
   "id": "769d36a6-4027-4dad-a08d-5badd4892a51",
   "metadata": {},
   "outputs": [],
   "source": [
    "def tokenize(sentence):\n",
    "    #INVALID_POS = [\"CC\", \"CD\", \"DT\", \"EX\", \"IN\", \"LS\", \"PDT\", \"POS\", \"PRP\", \"PRP$\", \"RP\", \"TO\", \"WDT\", \"WP\", \"WRB\"]\n",
    "    INVALID_POS = [\"CC\", \"CD\", \"DT\", \"EX\", \"IN\", \"LS\", \"PDT\", \"POS\", \"PRP\", \"PRP$\", \"RP\", \"TO\", \"WDT\", \"WP\", \"WRB\"]\n",
    "    sentence = re.sub(f\"[{re.escape(string.punctuation)}\\…]+\", \" \", sentence)\n",
    "    # Filter common words\n",
    "    tokens = nltk.pos_tag(sentence.split())\n",
    "    tokens_ = tokens\n",
    "    tokens = [tok for (tok, pos) in tokens if tok.lower() not in stop_words and pos not in INVALID_POS]\n",
    "    return tokens"
   ]
  },
  {
   "cell_type": "code",
   "execution_count": 25,
   "id": "32a1bf2b-7a9d-4a62-8e10-f9dd192fb8cb",
   "metadata": {},
   "outputs": [],
   "source": [
    "scorer = rouge_scorer.RougeScorer(['rouge1', 'rouge2', 'rougeL'])"
   ]
  },
  {
   "cell_type": "code",
   "execution_count": 4,
   "id": "11752a27-92a3-48bd-a721-8eb09dd25988",
   "metadata": {},
   "outputs": [
    {
     "data": {
      "text/plain": [
       "(200, 5)"
      ]
     },
     "execution_count": 4,
     "metadata": {},
     "output_type": "execute_result"
    }
   ],
   "source": [
    "refs = pd.read_csv(\"./reference_summaries.csv\")\n",
    "refs.shape"
   ]
  },
  {
   "cell_type": "code",
   "execution_count": 21,
   "id": "935f3de0-2be7-4f6a-a57d-03293e5c8166",
   "metadata": {},
   "outputs": [],
   "source": [
    "def get_scores(path, refs):\n",
    "    df = pd.read_csv(path)\n",
    "    df = pd.merge(df, refs, how=\"inner\", on=\"prod_id\")\n",
    "    df[\"summary\"] = df[\"summary\"].replace(np.nan, \"\")\n",
    "    all_scores = []\n",
    "    all_scores_with_prod_id = dict()\n",
    "    for i,prod_id in enumerate(df[\"prod_id\"].unique()):\n",
    "        data = df.loc[df[\"prod_id\"] == prod_id]\n",
    "        gen_summ = data[\"summary\"].values[0]\n",
    "        ref_summ = [data[\"summ_1\"].values[0], data[\"summ_2\"].values[0], data[\"summ_3\"].values[0]]\n",
    "        prod_scores = []\n",
    "        for rs in ref_summ:\n",
    "            #ref = ' '.join([str(word) for word in self.nlp(str(ref)) if str(word) not inself.stopwords])\n",
    "            rs = \" \".join(tokenize(rs))\n",
    "            gen_summ_ = \" \".join(tokenize(gen_summ))\n",
    "            scores = scorer.score(gen_summ_, rs)\n",
    "            r1_p, r1_r, r1_f = scores[\"rouge1\"]\n",
    "            r2_p, r2_r, r2_f = scores[\"rouge2\"]\n",
    "            rL_p, rL_r, rL_f = scores[\"rougeL\"]\n",
    "            prod_scores.append([[r1_p, r1_r, r1_f], [r2_p, r2_r, r2_f], [rL_p, rL_r, rL_f]])\n",
    "        \n",
    "        prod_score_arr = np.array(prod_scores)\n",
    "        all_scores.append(prod_scores)\n",
    "        all_scores_with_prod_id[prod_id] = {\n",
    "            \"rouge1\": {\n",
    "                \"precision\": {\"mean\": round(prod_score_arr.mean(0)[0][0], 5), \"max\": round(prod_score_arr.max(0)[0][0], 5), \"min\": round(prod_score_arr.min(0)[0][0], 5)},\n",
    "                \"recall\": {\"mean\": round(prod_score_arr.mean(0)[0][1], 5), \"max\": round(prod_score_arr.max(0)[0][1], 5), \"min\": round(prod_score_arr.min(0)[0][1], 5)},\n",
    "                \"fscore\": {\"mean\": round(prod_score_arr.mean(0)[0][1], 5), \"max\": round(prod_score_arr.max(0)[0][2], 5), \"min\": round(prod_score_arr.min(0)[0][2], 5)}\n",
    "            },\n",
    "            \"rouge2\": {\n",
    "                \"precision\": {\"mean\": round(prod_score_arr.mean(0)[1][0], 5), \"max\": round(prod_score_arr.max(0)[1][0], 5), \"min\": round(prod_score_arr.min(0)[1][0], 5)},\n",
    "                \"recall\": {\"mean\": round(prod_score_arr.mean(0)[1][1], 5), \"max\": round(prod_score_arr.max(0)[1][1], 5), \"min\": round(prod_score_arr.min(0)[1][1], 5)},\n",
    "                \"fscore\": {\"mean\": round(prod_score_arr.mean(0)[1][2], 5), \"max\": round(prod_score_arr.max(0)[1][2], 5), \"min\": round(prod_score_arr.min(0)[1][2], 5)}\n",
    "            },\n",
    "            \"rougeL\": {\n",
    "                \"precision\": {\"mean\": round(prod_score_arr.mean(0)[2][0], 5), \"max\": round(prod_score_arr.max(0)[2][0], 5), \"min\": round(prod_score_arr.min(0)[2][0], 5)},\n",
    "                \"recall\": {\"mean\": round(prod_score_arr.mean(0)[2][1], 5), \"max\": round(prod_score_arr.max(0)[2][1], 5), \"min\": round(prod_score_arr.min(0)[2][1], 5)},\n",
    "                \"fscore\": {\"mean\": round(prod_score_arr.mean(0)[2][2], 5), \"max\": round(prod_score_arr.max(0)[2][2], 5), \"min\": round(prod_score_arr.min(0)[2][2], 5)}\n",
    "            }\n",
    "        }\n",
    "        \n",
    "    all_scores = np.array(all_scores)\n",
    "    mean_scores = all_scores.mean(1).mean(0)\n",
    "    max_scores = all_scores.max(1).mean(0)\n",
    "    min_scores = all_scores.min(1).mean(0)\n",
    "    \n",
    "    output = {\n",
    "        \"rouge1\": {\n",
    "            \"precision\": {\"mean\": round(mean_scores[0][0], 5), \"max\": round(max_scores[0][0], 5), \"min\": round(min_scores[0][0], 5)},\n",
    "            \"recall\": {\"mean\": round(mean_scores[0][1], 5), \"max\": round(max_scores[0][1], 5), \"min\": round(min_scores[0][1], 5)},\n",
    "            \"fscore\": {\"mean\": round(mean_scores[0][2], 5), \"max\": round(max_scores[0][2], 5), \"min\": round(min_scores[0][2], 5)}\n",
    "        },\n",
    "        \"rouge2\": {\n",
    "            \"precision\": {\"mean\": round(mean_scores[1][0], 5), \"max\": round(max_scores[1][0], 5), \"min\": round(min_scores[1][0], 5)},\n",
    "            \"recall\": {\"mean\": round(mean_scores[1][1], 5), \"max\": round(max_scores[1][1], 5), \"min\": round(min_scores[1][1], 5)},\n",
    "            \"fscore\": {\"mean\": round(mean_scores[1][2], 5), \"max\": round(max_scores[1][2], 5), \"min\": round(min_scores[1][2], 5)}\n",
    "        },\n",
    "        \"rougeL\": {\n",
    "            \"precision\": {\"mean\": round(mean_scores[2][0], 5), \"max\": round(max_scores[2][0], 5), \"min\": round(min_scores[2][0], 5)},\n",
    "            \"recall\": {\"mean\": round(mean_scores[2][1], 5), \"max\": round(max_scores[2][1], 5), \"min\": round(min_scores[2][1], 5)},\n",
    "            \"fscore\": {\"mean\": round(mean_scores[2][2], 5), \"max\": round(max_scores[2][2], 5), \"min\": round(min_scores[2][2], 5)}\n",
    "        }\n",
    "    }\n",
    "    \n",
    "    return output, all_scores_with_prod_id"
   ]
  },
  {
   "cell_type": "code",
   "execution_count": 7,
   "id": "b68186b3-b4d0-4264-a68b-2c928fc4c7a4",
   "metadata": {},
   "outputs": [],
   "source": [
    "def metrics_csv(model, scores):\n",
    "    df = []\n",
    "    for prod_id in scores.keys():\n",
    "        data = scores[prod_id]\n",
    "        row = dict()\n",
    "        row[\"model\"] = model\n",
    "        row[\"prod_id\"] = prod_id\n",
    "        for k,v in zip([\"r1\", \"r2\", \"rL\"], [\"rouge1\", \"rouge2\", \"rougeL\"]):\n",
    "            for m in [\"precision\", \"recall\", \"fscore\"]:\n",
    "                row[f\"{k}_{m}_mean\"] = data[v][m][\"mean\"]\n",
    "                row[f\"{k}_{m}_max\"] = data[v][m][\"max\"]\n",
    "                row[f\"{k}_{m}_min\"] = data[v][m][\"min\"]\n",
    "        df.append(row)\n",
    "    df = pd.DataFrame(df)\n",
    "    return df"
   ]
  },
  {
   "cell_type": "markdown",
   "id": "5e534339-9d98-4c9a-9d28-aa2e3260c783",
   "metadata": {},
   "source": [
    "### Save ROUGE scores in Json files"
   ]
  },
  {
   "cell_type": "code",
   "execution_count": 59,
   "id": "5debcd53-5f90-4cad-a713-912279230cb4",
   "metadata": {},
   "outputs": [],
   "source": [
    "gpt2_scores, gpt2_all_scores_with_prod_id = get_scores(path=\"gpt2_summaries.csv\", refs=refs)\n",
    "with open('gpt2_avg_scores.json', 'w') as f:\n",
    "    json.dump(gpt2_scores, f)\n",
    "    \n",
    "gpt2_scores_csv = metrics_csv(\"gpt2\", gpt2_all_scores_with_prod_id)"
   ]
  },
  {
   "cell_type": "code",
   "execution_count": null,
   "id": "1a724544-0605-4e90-a206-545d903f6c9d",
   "metadata": {},
   "outputs": [],
   "source": []
  }
 ],
 "metadata": {
  "kernelspec": {
   "display_name": "dl-env",
   "language": "python",
   "name": "dl-env"
  },
  "language_info": {
   "codemirror_mode": {
    "name": "ipython",
    "version": 3
   },
   "file_extension": ".py",
   "mimetype": "text/x-python",
   "name": "python",
   "nbconvert_exporter": "python",
   "pygments_lexer": "ipython3",
   "version": "3.9.12"
  }
 },
 "nbformat": 4,
 "nbformat_minor": 5
}
